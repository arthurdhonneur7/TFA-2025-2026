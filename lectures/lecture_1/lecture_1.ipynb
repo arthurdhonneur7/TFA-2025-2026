{
 "cells": [
  {
   "cell_type": "markdown",
   "id": "af6b90a7",
   "metadata": {},
   "source": [
    "# Let's introduce ourselves to python pandas and financial data"
   ]
  },
  {
   "cell_type": "code",
   "execution_count": null,
   "id": "07420753",
   "metadata": {
    "vscode": {
     "languageId": "plaintext"
    }
   },
   "outputs": [],
   "source": []
  }
 ],
 "metadata": {
  "language_info": {
   "name": "python"
  }
 },
 "nbformat": 4,
 "nbformat_minor": 5
}
